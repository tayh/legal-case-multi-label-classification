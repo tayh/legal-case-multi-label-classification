{
 "cells": [
  {
   "cell_type": "code",
   "execution_count": 2,
   "metadata": {},
   "outputs": [],
   "source": [
    "%matplotlib inline\n",
    "import re\n",
    "import matplotlib\n",
    "import numpy as np\n",
    "import matplotlib.pyplot as plt\n",
    "import pandas as pd\n",
    "from sklearn.model_selection import train_test_split\n",
    "from sklearn.feature_extraction.text import TfidfVectorizer\n",
    "from sklearn.naive_bayes import MultinomialNB\n",
    "from sklearn.metrics import accuracy_score, classification_report\n",
    "from sklearn.multiclass import OneVsRestClassifier\n",
    "from nltk.corpus import stopwords\n",
    "stop_words = set(stopwords.words('portuguese'))\n",
    "from sklearn.svm import LinearSVC\n",
    "from sklearn.linear_model import LogisticRegression\n",
    "from sklearn.pipeline import Pipeline\n",
    "import seaborn as sns\n",
    "from sklearn.feature_extraction.text import CountVectorizer\n",
    "from sklearn.neighbors import KNeighborsClassifier \n",
    "from sklearn import tree\n",
    "from sklearn.ensemble import RandomForestClassifier\n",
    "from sklearn.feature_extraction.text import TfidfTransformer\n",
    "from sklearn.preprocessing import StandardScaler"
   ]
  },
  {
   "cell_type": "code",
   "execution_count": 3,
   "metadata": {},
   "outputs": [
    {
     "data": {
      "text/html": [
       "<div>\n",
       "<style scoped>\n",
       "    .dataframe tbody tr th:only-of-type {\n",
       "        vertical-align: middle;\n",
       "    }\n",
       "\n",
       "    .dataframe tbody tr th {\n",
       "        vertical-align: top;\n",
       "    }\n",
       "\n",
       "    .dataframe thead th {\n",
       "        text-align: right;\n",
       "    }\n",
       "</style>\n",
       "<table border=\"1\" class=\"dataframe\">\n",
       "  <thead>\n",
       "    <tr style=\"text-align: right;\">\n",
       "      <th></th>\n",
       "      <th>Órgãos</th>\n",
       "      <th>Ementas</th>\n",
       "      <th>N. Processos</th>\n",
       "      <th>Apelantes</th>\n",
       "      <th>Apelados</th>\n",
       "      <th>Relatores</th>\n",
       "      <th>N. Acórdãos</th>\n",
       "      <th>Decisões</th>\n",
       "      <th>Datas</th>\n",
       "      <th>Saída</th>\n",
       "    </tr>\n",
       "  </thead>\n",
       "  <tbody>\n",
       "    <tr>\n",
       "      <td>0</td>\n",
       "      <td>3ª Turma Cível</td>\n",
       "      <td>PROCESSO CIVIL. PENSÃO POR MORTE DE SERVIDOR P...</td>\n",
       "      <td>AGRAVO DE INSTRUMENTO 0703201-60.2018.8.07.0000</td>\n",
       "      <td>DISTRITO FEDERAL</td>\n",
       "      <td>SILVIA SANTANA NOBRE</td>\n",
       "      <td>MARIA DE LOURDES ABREU</td>\n",
       "      <td>1116154</td>\n",
       "      <td>CONHECER E DAR PARCIAL PROVIMENTO, UNÂNIME</td>\n",
       "      <td>18 de Julho de 2018</td>\n",
       "      <td>Parcialmente</td>\n",
       "    </tr>\n",
       "    <tr>\n",
       "      <td>1</td>\n",
       "      <td>3ª Turma Cível</td>\n",
       "      <td>PROCESSO CIVIL. PRELIMINAR. CERCEAMENTO DE DEF...</td>\n",
       "      <td>APELAÇÃO CÍVEL 0716314-15.2017.8.07.0001</td>\n",
       "      <td>LUIS HENRIQUE ALMEIDA PRADO DE OLIVEIRA e MART...</td>\n",
       "      <td>MARTA REGINA QUEIROZ ROSSIGNOLLI e LUIS HENRIQ...</td>\n",
       "      <td>MARIA DE LOURDES ABREU</td>\n",
       "      <td>1148840</td>\n",
       "      <td>CONHECER, REJEITAR AS PRELIMINARES, NEGAR PROV...</td>\n",
       "      <td>06 de Fevereiro de 2019</td>\n",
       "      <td>Desprovido</td>\n",
       "    </tr>\n",
       "    <tr>\n",
       "      <td>2</td>\n",
       "      <td>4ª Turma Cível</td>\n",
       "      <td>APELAÇÃO CÍVEL. AÇÃO CUMPRIMENTO DE PRECEITO L...</td>\n",
       "      <td>APELAÇÃO CÍVEL 0709736-02.2018.8.07.0001</td>\n",
       "      <td>ESCRITORIO CENTRAL DE ARRECADACAO E DISTRIBUIC...</td>\n",
       "      <td>NOVA GAZICO SERVICOS EM TECNOLOGIA DA INFORMAC...</td>\n",
       "      <td>SÉRGIO ROCHA</td>\n",
       "      <td>1158566</td>\n",
       "      <td>NEGAR PROVIMENTO AO RECURSO, UNÂNIME</td>\n",
       "      <td>13 de Março de 2019</td>\n",
       "      <td>Desprovido</td>\n",
       "    </tr>\n",
       "    <tr>\n",
       "      <td>3</td>\n",
       "      <td>3ª Turma Cível</td>\n",
       "      <td>APELAÇÃO CÍVEL. AÇÃO DE BUSCA E APREENSÃO. MÚT...</td>\n",
       "      <td>APELAÇÃO CÍVEL 0703630-12.2018.8.07.0005</td>\n",
       "      <td>BV FINANCEIRA S/A CFI</td>\n",
       "      <td>JAKISON RAYRON ARAUJO PEIXOTO</td>\n",
       "      <td>ALVARO CIARLINI</td>\n",
       "      <td>1174071</td>\n",
       "      <td>CONHECER E NEGAR PROVIMENTO, UNÂNIME</td>\n",
       "      <td>22 de Maio de 2019</td>\n",
       "      <td>Desprovido</td>\n",
       "    </tr>\n",
       "    <tr>\n",
       "      <td>4</td>\n",
       "      <td>3ª Turma Cível</td>\n",
       "      <td>APELAÇÃO CÍVEL. ADMINISTRATIVO E CONSTITUCIONA...</td>\n",
       "      <td>APELAÇÃO CÍVEL 0702545-10.2017.8.07.0010</td>\n",
       "      <td>CLEMENTINO PEREIRA MATOS NETO</td>\n",
       "      <td>DISTRITO FEDERAL e SERVICOS HOSPITALARES YUGE S.A</td>\n",
       "      <td>ALVARO CIARLINI</td>\n",
       "      <td>1174078</td>\n",
       "      <td>CONHECER, ACOLHER A PRELIMINAR DE NULIDADE DA ...</td>\n",
       "      <td>22 de Maio de 2019</td>\n",
       "      <td>Outros</td>\n",
       "    </tr>\n",
       "  </tbody>\n",
       "</table>\n",
       "</div>"
      ],
      "text/plain": [
       "           Órgãos                                            Ementas  \\\n",
       "0  3ª Turma Cível  PROCESSO CIVIL. PENSÃO POR MORTE DE SERVIDOR P...   \n",
       "1  3ª Turma Cível  PROCESSO CIVIL. PRELIMINAR. CERCEAMENTO DE DEF...   \n",
       "2  4ª Turma Cível  APELAÇÃO CÍVEL. AÇÃO CUMPRIMENTO DE PRECEITO L...   \n",
       "3  3ª Turma Cível  APELAÇÃO CÍVEL. AÇÃO DE BUSCA E APREENSÃO. MÚT...   \n",
       "4  3ª Turma Cível  APELAÇÃO CÍVEL. ADMINISTRATIVO E CONSTITUCIONA...   \n",
       "\n",
       "                                      N. Processos  \\\n",
       "0  AGRAVO DE INSTRUMENTO 0703201-60.2018.8.07.0000   \n",
       "1         APELAÇÃO CÍVEL 0716314-15.2017.8.07.0001   \n",
       "2         APELAÇÃO CÍVEL 0709736-02.2018.8.07.0001   \n",
       "3         APELAÇÃO CÍVEL 0703630-12.2018.8.07.0005   \n",
       "4         APELAÇÃO CÍVEL 0702545-10.2017.8.07.0010   \n",
       "\n",
       "                                           Apelantes  \\\n",
       "0                                   DISTRITO FEDERAL   \n",
       "1  LUIS HENRIQUE ALMEIDA PRADO DE OLIVEIRA e MART...   \n",
       "2  ESCRITORIO CENTRAL DE ARRECADACAO E DISTRIBUIC...   \n",
       "3                              BV FINANCEIRA S/A CFI   \n",
       "4                      CLEMENTINO PEREIRA MATOS NETO   \n",
       "\n",
       "                                            Apelados               Relatores  \\\n",
       "0                               SILVIA SANTANA NOBRE  MARIA DE LOURDES ABREU   \n",
       "1  MARTA REGINA QUEIROZ ROSSIGNOLLI e LUIS HENRIQ...  MARIA DE LOURDES ABREU   \n",
       "2  NOVA GAZICO SERVICOS EM TECNOLOGIA DA INFORMAC...            SÉRGIO ROCHA   \n",
       "3                      JAKISON RAYRON ARAUJO PEIXOTO         ALVARO CIARLINI   \n",
       "4  DISTRITO FEDERAL e SERVICOS HOSPITALARES YUGE S.A         ALVARO CIARLINI   \n",
       "\n",
       "  N. Acórdãos                                           Decisões  \\\n",
       "0     1116154         CONHECER E DAR PARCIAL PROVIMENTO, UNÂNIME   \n",
       "1     1148840  CONHECER, REJEITAR AS PRELIMINARES, NEGAR PROV...   \n",
       "2     1158566               NEGAR PROVIMENTO AO RECURSO, UNÂNIME   \n",
       "3     1174071               CONHECER E NEGAR PROVIMENTO, UNÂNIME   \n",
       "4     1174078  CONHECER, ACOLHER A PRELIMINAR DE NULIDADE DA ...   \n",
       "\n",
       "                     Datas         Saída  \n",
       "0      18 de Julho de 2018  Parcialmente  \n",
       "1  06 de Fevereiro de 2019    Desprovido  \n",
       "2      13 de Março de 2019    Desprovido  \n",
       "3       22 de Maio de 2019    Desprovido  \n",
       "4       22 de Maio de 2019        Outros  "
      ]
     },
     "execution_count": 3,
     "metadata": {},
     "output_type": "execute_result"
    }
   ],
   "source": [
    "df = pd.read_excel('C:\\\\Users\\\\Taynara\\\\Desktop\\\\Dados.xlsx')\n",
    "df.head()"
   ]
  },
  {
   "cell_type": "code",
   "execution_count": 4,
   "metadata": {},
   "outputs": [
    {
     "data": {
      "text/plain": [
       "Órgãos          15521\n",
       "Ementas         15521\n",
       "N. Processos    15521\n",
       "Apelantes       15521\n",
       "Apelados        15521\n",
       "Relatores       15521\n",
       "N. Acórdãos     15521\n",
       "Decisões        15521\n",
       "Datas           15521\n",
       "Saída           15521\n",
       "dtype: int64"
      ]
     },
     "execution_count": 4,
     "metadata": {},
     "output_type": "execute_result"
    }
   ],
   "source": [
    "df.count()"
   ]
  },
  {
   "cell_type": "code",
   "execution_count": 5,
   "metadata": {},
   "outputs": [
    {
     "data": {
      "text/plain": [
       "<matplotlib.axes._subplots.AxesSubplot at 0x2568b16d8c8>"
      ]
     },
     "execution_count": 5,
     "metadata": {},
     "output_type": "execute_result"
    },
    {
     "data": {
      "image/png": "[encoded data removed]",
      "text/plain": [
       "<Figure size 720x360 with 1 Axes>"
      ]
     },
     "metadata": {
      "needs_background": "light"
     },
     "output_type": "display_data"
    }
   ],
   "source": [
    "df['Saída'].value_counts().plot.bar(figsize=(10,5))"
   ]
  },
  {
   "cell_type": "code",
   "execution_count": 6,
   "metadata": {},
   "outputs": [
    {
     "data": {
      "text/plain": [
       "0"
      ]
     },
     "execution_count": 6,
     "metadata": {},
     "output_type": "execute_result"
    }
   ],
   "source": [
    "df['Saída'].isnull().sum()"
   ]
  },
  {
   "cell_type": "code",
   "execution_count": 7,
   "metadata": {},
   "outputs": [],
   "source": [
    "df = df.dropna()\n",
    "\n",
    "y = df['Saída'].str.lower()\n",
    "sentences = df['Decisões'].str.lower()"
   ]
  },
  {
   "cell_type": "code",
   "execution_count": 8,
   "metadata": {},
   "outputs": [],
   "source": [
    "sentences = sentences.values\n",
    "y = y.values"
   ]
  },
  {
   "cell_type": "code",
   "execution_count": 9,
   "metadata": {},
   "outputs": [],
   "source": [
    "sentences_train, sentences_test, y_train, y_test = train_test_split(\n",
    "    sentences, y, test_size=0.20, random_state=42, shuffle=True)"
   ]
  },
  {
   "cell_type": "code",
   "execution_count": 10,
   "metadata": {},
   "outputs": [],
   "source": [
    "vectorizer = CountVectorizer()\n",
    "vectorizer.fit(sentences_train)\n",
    "X_train = vectorizer.transform(sentences_train)\n",
    "X_test  = vectorizer.transform(sentences_test)"
   ]
  },
  {
   "cell_type": "markdown",
   "metadata": {},
   "source": [
    "### Naive Bayes"
   ]
  },
  {
   "cell_type": "code",
   "execution_count": 12,
   "metadata": {},
   "outputs": [
    {
     "name": "stdout",
     "output_type": "stream",
     "text": [
      "                           precision    recall  f1-score   support\n",
      "\n",
      "               desprovido       1.00      0.97      0.99      1824\n",
      "    desprovido-desprovido       0.75      0.87      0.81        60\n",
      "  desprovido-parcialmente       0.12      0.17      0.14        12\n",
      "       desprovido-provido       0.00      0.00      0.00         6\n",
      "                   outros       0.79      0.96      0.87        98\n",
      "             parcialmente       0.98      0.98      0.98       488\n",
      "  parcialmente-desprovido       0.26      0.82      0.40        17\n",
      "parcialmente-parcialmente       0.75      0.43      0.55         7\n",
      "                  provido       0.96      0.96      0.96       565\n",
      "       provido-desprovido       1.00      0.24      0.38        21\n",
      "     provido-parcialmente       0.00      0.00      0.00         5\n",
      "          provido-provido       0.00      0.00      0.00         2\n",
      "\n",
      "                 accuracy                           0.96      3105\n",
      "                macro avg       0.55      0.53      0.51      3105\n",
      "             weighted avg       0.97      0.96      0.96      3105\n",
      "\n",
      "Accuracy for data: 0.9572\n"
     ]
    },
    {
     "name": "stderr",
     "output_type": "stream",
     "text": [
      "C:\\Users\\Taynara\\Anaconda3\\lib\\site-packages\\sklearn\\metrics\\classification.py:1437: UndefinedMetricWarning: Precision and F-score are ill-defined and being set to 0.0 in labels with no predicted samples.\n",
      "  'precision', 'predicted', average, warn_for)\n"
     ]
    }
   ],
   "source": [
    "classifier = MultinomialNB()\n",
    "classifier.fit(X_train, y_train)\n",
    "score = classifier.score(X_test, y_test)\n",
    "y_pred = classifier.predict(X_test)\n",
    "print(classification_report(y_test, y_pred))\n",
    "print('Accuracy for data: {:.4f}'.format(score))"
   ]
  },
  {
   "cell_type": "markdown",
   "metadata": {},
   "source": [
    "### LinearSVC"
   ]
  },
  {
   "cell_type": "code",
   "execution_count": 13,
   "metadata": {
    "scrolled": true
   },
   "outputs": [
    {
     "name": "stdout",
     "output_type": "stream",
     "text": [
      "                           precision    recall  f1-score   support\n",
      "\n",
      "               desprovido       1.00      0.99      1.00      1824\n",
      "    desprovido-desprovido       0.80      0.92      0.85        60\n",
      "  desprovido-parcialmente       0.38      0.25      0.30        12\n",
      "       desprovido-provido       0.33      0.17      0.22         6\n",
      "                   outros       0.99      0.98      0.98        98\n",
      "             parcialmente       1.00      0.99      0.99       488\n",
      "  parcialmente-desprovido       0.56      0.82      0.67        17\n",
      "parcialmente-parcialmente       0.67      0.86      0.75         7\n",
      "                  provido       0.99      1.00      1.00       565\n",
      "       provido-desprovido       0.85      0.81      0.83        21\n",
      "     provido-parcialmente       1.00      0.80      0.89         5\n",
      "          provido-provido       1.00      0.50      0.67         2\n",
      "\n",
      "                 accuracy                           0.98      3105\n",
      "                macro avg       0.80      0.76      0.76      3105\n",
      "             weighted avg       0.99      0.98      0.98      3105\n",
      "\n",
      "Accuracy for data: 0.9849\n"
     ]
    }
   ],
   "source": [
    "classifier = LinearSVC()\n",
    "classifier.fit(X_train, y_train)\n",
    "score = classifier.score(X_test, y_test)\n",
    "y_pred = classifier.predict(X_test)\n",
    "print(classification_report(y_test, y_pred))\n",
    "print('Accuracy for data: {:.4f}'.format(score))"
   ]
  },
  {
   "cell_type": "markdown",
   "metadata": {},
   "source": [
    "### Logistic Regression\n"
   ]
  },
  {
   "cell_type": "code",
   "execution_count": 15,
   "metadata": {},
   "outputs": [
    {
     "name": "stdout",
     "output_type": "stream",
     "text": [
      "                           precision    recall  f1-score   support\n",
      "\n",
      "               desprovido       1.00      0.99      1.00      1824\n",
      "    desprovido-desprovido       0.80      0.93      0.86        60\n",
      "  desprovido-parcialmente       0.38      0.25      0.30        12\n",
      "       desprovido-provido       0.00      0.00      0.00         6\n",
      "                   outros       0.98      0.99      0.98        98\n",
      "             parcialmente       1.00      1.00      1.00       488\n",
      "  parcialmente-desprovido       0.44      0.71      0.55        17\n",
      "parcialmente-parcialmente       0.86      0.86      0.86         7\n",
      "                  provido       0.99      1.00      1.00       565\n",
      "       provido-desprovido       0.74      0.67      0.70        21\n",
      "     provido-parcialmente       1.00      0.20      0.33         5\n",
      "          provido-provido       0.00      0.00      0.00         2\n",
      "\n",
      "                 accuracy                           0.98      3105\n",
      "                macro avg       0.68      0.63      0.63      3105\n",
      "             weighted avg       0.98      0.98      0.98      3105\n",
      "\n",
      "Accuracy for data: 0.9833\n"
     ]
    }
   ],
   "source": [
    "classifier = LogisticRegression()\n",
    "classifier.fit(X_train, y_train)\n",
    "score = classifier.score(X_test, y_test)\n",
    "y_pred = classifier.predict(X_test)\n",
    "print(classification_report(y_test, y_pred))\n",
    "print('Accuracy for data: {:.4f}'.format(score))"
   ]
  },
  {
   "cell_type": "markdown",
   "metadata": {},
   "source": [
    "### Nearest Neighbors"
   ]
  },
  {
   "cell_type": "code",
   "execution_count": 16,
   "metadata": {},
   "outputs": [
    {
     "name": "stdout",
     "output_type": "stream",
     "text": [
      "                           precision    recall  f1-score   support\n",
      "\n",
      "               desprovido       0.98      1.00      0.99      1824\n",
      "    desprovido-desprovido       0.88      0.63      0.74        60\n",
      "  desprovido-parcialmente       0.22      0.33      0.27        12\n",
      "       desprovido-provido       0.00      0.00      0.00         6\n",
      "                   outros       0.97      0.86      0.91        98\n",
      "             parcialmente       0.99      0.99      0.99       488\n",
      "  parcialmente-desprovido       0.32      0.41      0.36        17\n",
      "parcialmente-parcialmente       0.75      0.43      0.55         7\n",
      "                  provido       0.99      0.99      0.99       565\n",
      "       provido-desprovido       0.62      0.38      0.47        21\n",
      "     provido-parcialmente       1.00      0.20      0.33         5\n",
      "          provido-provido       0.00      0.00      0.00         2\n",
      "\n",
      "                 accuracy                           0.97      3105\n",
      "                macro avg       0.64      0.52      0.55      3105\n",
      "             weighted avg       0.97      0.97      0.97      3105\n",
      "\n",
      "Accuracy for data: 0.9700\n"
     ]
    }
   ],
   "source": [
    "classifier = KNeighborsClassifier(n_neighbors=6)\n",
    "classifier.fit(X_train, y_train)\n",
    "score = classifier.score(X_test, y_test)\n",
    "y_pred = classifier.predict(X_test)\n",
    "print(classification_report(y_test, y_pred))\n",
    "print('Accuracy for data: {:.4f}'.format(score))"
   ]
  },
  {
   "cell_type": "markdown",
   "metadata": {},
   "source": [
    "### Decision Trees"
   ]
  },
  {
   "cell_type": "code",
   "execution_count": 17,
   "metadata": {},
   "outputs": [
    {
     "name": "stdout",
     "output_type": "stream",
     "text": [
      "                           precision    recall  f1-score   support\n",
      "\n",
      "               desprovido       1.00      0.99      1.00      1824\n",
      "    desprovido-desprovido       0.82      0.92      0.87        60\n",
      "  desprovido-parcialmente       0.30      0.25      0.27        12\n",
      "       desprovido-provido       0.25      0.17      0.20         6\n",
      "                   outros       0.99      0.98      0.98        98\n",
      "             parcialmente       1.00      0.99      0.99       488\n",
      "  parcialmente-desprovido       0.45      0.53      0.49        17\n",
      "parcialmente-parcialmente       0.50      0.86      0.63         7\n",
      "                  provido       0.99      1.00      1.00       565\n",
      "       provido-desprovido       0.88      0.71      0.79        21\n",
      "     provido-parcialmente       1.00      0.80      0.89         5\n",
      "          provido-provido       0.50      0.50      0.50         2\n",
      "\n",
      "                 accuracy                           0.98      3105\n",
      "                macro avg       0.72      0.72      0.72      3105\n",
      "             weighted avg       0.98      0.98      0.98      3105\n",
      "\n",
      "Accuracy for data: 0.9829\n"
     ]
    }
   ],
   "source": [
    "classifier = tree.DecisionTreeClassifier()\n",
    "classifier.fit(X_train, y_train)\n",
    "score = classifier.score(X_test, y_test)\n",
    "y_pred = classifier.predict(X_test)\n",
    "print(classification_report(y_test, y_pred))\n",
    "print('Accuracy for data: {:.4f}'.format(score))"
   ]
  }
 ],
 "metadata": {
  "kernelspec": {
   "display_name": "Python 3",
   "language": "python",
   "name": "python3"
  },
  "language_info": {
   "codemirror_mode": {
    "name": "ipython",
    "version": 3
   },
   "file_extension": ".py",
   "mimetype": "text/x-python",
   "name": "python",
   "nbconvert_exporter": "python",
   "pygments_lexer": "ipython3",
   "version": "3.7.4"
  }
 },
 "nbformat": 4,
 "nbformat_minor": 2
}
