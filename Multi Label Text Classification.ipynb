{
 "cells": [
  {
   "cell_type": "code",
   "execution_count": 1,
   "metadata": {},
   "outputs": [],
   "source": [
    "%matplotlib inline\n",
    "import re\n",
    "import matplotlib\n",
    "import numpy as np\n",
    "import matplotlib.pyplot as plt\n",
    "import pandas as pd\n",
    "from sklearn.model_selection import train_test_split\n",
    "from sklearn.feature_extraction.text import TfidfVectorizer\n",
    "from sklearn.naive_bayes import MultinomialNB\n",
    "from sklearn.metrics import accuracy_score, classification_report\n",
    "from sklearn.multiclass import OneVsRestClassifier\n",
    "from nltk.corpus import stopwords\n",
    "stop_words = set(stopwords.words('portuguese'))\n",
    "from sklearn.svm import LinearSVC\n",
    "from sklearn.linear_model import LogisticRegression\n",
    "from sklearn.pipeline import Pipeline\n",
    "import seaborn as sns\n",
    "from sklearn.feature_extraction.text import CountVectorizer\n",
    "from sklearn.neighbors import KNeighborsClassifier \n",
    "from sklearn import tree\n",
    "from sklearn.ensemble import RandomForestClassifier\n",
    "from sklearn.feature_extraction.text import TfidfTransformer\n",
    "from sklearn.preprocessing import StandardScaler"
   ]
  },
  {
   "cell_type": "code",
   "execution_count": 2,
   "metadata": {},
   "outputs": [
    {
     "data": {
      "text/html": [
       "<div>\n",
       "<style scoped>\n",
       "    .dataframe tbody tr th:only-of-type {\n",
       "        vertical-align: middle;\n",
       "    }\n",
       "\n",
       "    .dataframe tbody tr th {\n",
       "        vertical-align: top;\n",
       "    }\n",
       "\n",
       "    .dataframe thead th {\n",
       "        text-align: right;\n",
       "    }\n",
       "</style>\n",
       "<table border=\"1\" class=\"dataframe\">\n",
       "  <thead>\n",
       "    <tr style=\"text-align: right;\">\n",
       "      <th></th>\n",
       "      <th>Órgãos</th>\n",
       "      <th>Ementas</th>\n",
       "      <th>N. Processos</th>\n",
       "      <th>Apelantes</th>\n",
       "      <th>Apelados</th>\n",
       "      <th>Relatores</th>\n",
       "      <th>N. Acórdãos</th>\n",
       "      <th>Decisões</th>\n",
       "      <th>Datas</th>\n",
       "      <th>Saída</th>\n",
       "    </tr>\n",
       "  </thead>\n",
       "  <tbody>\n",
       "    <tr>\n",
       "      <td>0</td>\n",
       "      <td>3ª Turma Cível</td>\n",
       "      <td>PROCESSO CIVIL. PENSÃO POR MORTE DE SERVIDOR P...</td>\n",
       "      <td>AGRAVO DE INSTRUMENTO 0703201-60.2018.8.07.0000</td>\n",
       "      <td>DISTRITO FEDERAL</td>\n",
       "      <td>SILVIA SANTANA NOBRE</td>\n",
       "      <td>MARIA DE LOURDES ABREU</td>\n",
       "      <td>1116154</td>\n",
       "      <td>CONHECER E DAR PARCIAL PROVIMENTO, UNÂNIME</td>\n",
       "      <td>18 de Julho de 2018</td>\n",
       "      <td>Parcialmente</td>\n",
       "    </tr>\n",
       "    <tr>\n",
       "      <td>1</td>\n",
       "      <td>3ª Turma Cível</td>\n",
       "      <td>PROCESSO CIVIL. PRELIMINAR. CERCEAMENTO DE DEF...</td>\n",
       "      <td>APELAÇÃO CÍVEL 0716314-15.2017.8.07.0001</td>\n",
       "      <td>LUIS HENRIQUE ALMEIDA PRADO DE OLIVEIRA e MART...</td>\n",
       "      <td>MARTA REGINA QUEIROZ ROSSIGNOLLI e LUIS HENRIQ...</td>\n",
       "      <td>MARIA DE LOURDES ABREU</td>\n",
       "      <td>1148840</td>\n",
       "      <td>CONHECER, REJEITAR AS PRELIMINARES, NEGAR PROV...</td>\n",
       "      <td>06 de Fevereiro de 2019</td>\n",
       "      <td>Desprovido</td>\n",
       "    </tr>\n",
       "    <tr>\n",
       "      <td>2</td>\n",
       "      <td>4ª Turma Cível</td>\n",
       "      <td>APELAÇÃO CÍVEL. AÇÃO CUMPRIMENTO DE PRECEITO L...</td>\n",
       "      <td>APELAÇÃO CÍVEL 0709736-02.2018.8.07.0001</td>\n",
       "      <td>ESCRITORIO CENTRAL DE ARRECADACAO E DISTRIBUIC...</td>\n",
       "      <td>NOVA GAZICO SERVICOS EM TECNOLOGIA DA INFORMAC...</td>\n",
       "      <td>SÉRGIO ROCHA</td>\n",
       "      <td>1158566</td>\n",
       "      <td>NEGAR PROVIMENTO AO RECURSO, UNÂNIME</td>\n",
       "      <td>13 de Março de 2019</td>\n",
       "      <td>Desprovido</td>\n",
       "    </tr>\n",
       "    <tr>\n",
       "      <td>3</td>\n",
       "      <td>3ª Turma Cível</td>\n",
       "      <td>APELAÇÃO CÍVEL. AÇÃO DE BUSCA E APREENSÃO. MÚT...</td>\n",
       "      <td>APELAÇÃO CÍVEL 0703630-12.2018.8.07.0005</td>\n",
       "      <td>BV FINANCEIRA S/A CFI</td>\n",
       "      <td>JAKISON RAYRON ARAUJO PEIXOTO</td>\n",
       "      <td>ALVARO CIARLINI</td>\n",
       "      <td>1174071</td>\n",
       "      <td>CONHECER E NEGAR PROVIMENTO, UNÂNIME</td>\n",
       "      <td>22 de Maio de 2019</td>\n",
       "      <td>Desprovido</td>\n",
       "    </tr>\n",
       "    <tr>\n",
       "      <td>4</td>\n",
       "      <td>3ª Turma Cível</td>\n",
       "      <td>APELAÇÃO CÍVEL. ADMINISTRATIVO E CONSTITUCIONA...</td>\n",
       "      <td>APELAÇÃO CÍVEL 0702545-10.2017.8.07.0010</td>\n",
       "      <td>CLEMENTINO PEREIRA MATOS NETO</td>\n",
       "      <td>DISTRITO FEDERAL e SERVICOS HOSPITALARES YUGE S.A</td>\n",
       "      <td>ALVARO CIARLINI</td>\n",
       "      <td>1174078</td>\n",
       "      <td>CONHECER, ACOLHER A PRELIMINAR DE NULIDADE DA ...</td>\n",
       "      <td>22 de Maio de 2019</td>\n",
       "      <td>Outros</td>\n",
       "    </tr>\n",
       "  </tbody>\n",
       "</table>\n",
       "</div>"
      ],
      "text/plain": [
       "           Órgãos                                            Ementas  \\\n",
       "0  3ª Turma Cível  PROCESSO CIVIL. PENSÃO POR MORTE DE SERVIDOR P...   \n",
       "1  3ª Turma Cível  PROCESSO CIVIL. PRELIMINAR. CERCEAMENTO DE DEF...   \n",
       "2  4ª Turma Cível  APELAÇÃO CÍVEL. AÇÃO CUMPRIMENTO DE PRECEITO L...   \n",
       "3  3ª Turma Cível  APELAÇÃO CÍVEL. AÇÃO DE BUSCA E APREENSÃO. MÚT...   \n",
       "4  3ª Turma Cível  APELAÇÃO CÍVEL. ADMINISTRATIVO E CONSTITUCIONA...   \n",
       "\n",
       "                                      N. Processos  \\\n",
       "0  AGRAVO DE INSTRUMENTO 0703201-60.2018.8.07.0000   \n",
       "1         APELAÇÃO CÍVEL 0716314-15.2017.8.07.0001   \n",
       "2         APELAÇÃO CÍVEL 0709736-02.2018.8.07.0001   \n",
       "3         APELAÇÃO CÍVEL 0703630-12.2018.8.07.0005   \n",
       "4         APELAÇÃO CÍVEL 0702545-10.2017.8.07.0010   \n",
       "\n",
       "                                           Apelantes  \\\n",
       "0                                   DISTRITO FEDERAL   \n",
       "1  LUIS HENRIQUE ALMEIDA PRADO DE OLIVEIRA e MART...   \n",
       "2  ESCRITORIO CENTRAL DE ARRECADACAO E DISTRIBUIC...   \n",
       "3                              BV FINANCEIRA S/A CFI   \n",
       "4                      CLEMENTINO PEREIRA MATOS NETO   \n",
       "\n",
       "                                            Apelados               Relatores  \\\n",
       "0                               SILVIA SANTANA NOBRE  MARIA DE LOURDES ABREU   \n",
       "1  MARTA REGINA QUEIROZ ROSSIGNOLLI e LUIS HENRIQ...  MARIA DE LOURDES ABREU   \n",
       "2  NOVA GAZICO SERVICOS EM TECNOLOGIA DA INFORMAC...            SÉRGIO ROCHA   \n",
       "3                      JAKISON RAYRON ARAUJO PEIXOTO         ALVARO CIARLINI   \n",
       "4  DISTRITO FEDERAL e SERVICOS HOSPITALARES YUGE S.A         ALVARO CIARLINI   \n",
       "\n",
       "  N. Acórdãos                                           Decisões  \\\n",
       "0     1116154         CONHECER E DAR PARCIAL PROVIMENTO, UNÂNIME   \n",
       "1     1148840  CONHECER, REJEITAR AS PRELIMINARES, NEGAR PROV...   \n",
       "2     1158566               NEGAR PROVIMENTO AO RECURSO, UNÂNIME   \n",
       "3     1174071               CONHECER E NEGAR PROVIMENTO, UNÂNIME   \n",
       "4     1174078  CONHECER, ACOLHER A PRELIMINAR DE NULIDADE DA ...   \n",
       "\n",
       "                     Datas         Saída  \n",
       "0      18 de Julho de 2018  Parcialmente  \n",
       "1  06 de Fevereiro de 2019    Desprovido  \n",
       "2      13 de Março de 2019    Desprovido  \n",
       "3       22 de Maio de 2019    Desprovido  \n",
       "4       22 de Maio de 2019        Outros  "
      ]
     },
     "execution_count": 2,
     "metadata": {},
     "output_type": "execute_result"
    }
   ],
   "source": [
    "df = pd.read_excel('C:\\\\Users\\\\Taynara\\\\Desktop\\\\Dados.xlsx')\n",
    "df.head()"
   ]
  },
  {
   "cell_type": "code",
   "execution_count": 3,
   "metadata": {},
   "outputs": [
    {
     "data": {
      "text/plain": [
       "Órgãos          15521\n",
       "Ementas         15521\n",
       "N. Processos    15521\n",
       "Apelantes       15521\n",
       "Apelados        15521\n",
       "Relatores       15521\n",
       "N. Acórdãos     15521\n",
       "Decisões        15521\n",
       "Datas           15521\n",
       "Saída           15521\n",
       "dtype: int64"
      ]
     },
     "execution_count": 3,
     "metadata": {},
     "output_type": "execute_result"
    }
   ],
   "source": [
    "df.count()"
   ]
  },
  {
   "cell_type": "code",
   "execution_count": 4,
   "metadata": {},
   "outputs": [
    {
     "data": {
      "text/plain": [
       "<matplotlib.axes._subplots.AxesSubplot at 0x1feff802cc8>"
      ]
     },
     "execution_count": 4,
     "metadata": {},
     "output_type": "execute_result"
    },
    {
     "data": {
      "image/png": "[encoded data removed]",
      "text/plain": [
       "<Figure size 720x360 with 1 Axes>"
      ]
     },
     "metadata": {
      "needs_background": "light"
     },
     "output_type": "display_data"
    }
   ],
   "source": [
    "df['Saída'].value_counts().plot.bar(figsize=(10,5))"
   ]
  },
  {
   "cell_type": "code",
   "execution_count": 5,
   "metadata": {},
   "outputs": [
    {
     "data": {
      "text/plain": [
       "0"
      ]
     },
     "execution_count": 5,
     "metadata": {},
     "output_type": "execute_result"
    }
   ],
   "source": [
    "df['Saída'].isnull().sum()"
   ]
  },
  {
   "cell_type": "code",
   "execution_count": 6,
   "metadata": {},
   "outputs": [],
   "source": [
    "df = df.dropna()\n",
    "\n",
    "y = df['Saída'].str.lower()\n",
    "sentences = df['Decisões'].str.lower()"
   ]
  },
  {
   "cell_type": "code",
   "execution_count": 7,
   "metadata": {},
   "outputs": [],
   "source": [
    "sentences = sentences.values\n",
    "y = y.values"
   ]
  },
  {
   "cell_type": "code",
   "execution_count": 8,
   "metadata": {},
   "outputs": [],
   "source": [
    "sentences_train, sentences_test, y_train, y_test = train_test_split(\n",
    "    sentences, y, test_size=0.20, random_state=42, shuffle=True)"
   ]
  },
  {
   "cell_type": "code",
   "execution_count": 9,
   "metadata": {},
   "outputs": [],
   "source": [
    "vectorizer = CountVectorizer()\n",
    "vectorizer.fit(sentences_train)\n",
    "X_train = vectorizer.transform(sentences_train)\n",
    "X_test  = vectorizer.transform(sentences_test)"
   ]
  },
  {
   "cell_type": "markdown",
   "metadata": {},
   "source": [
    "### Naive Bayes"
   ]
  },
  {
   "cell_type": "code",
   "execution_count": 10,
   "metadata": {},
   "outputs": [
    {
     "name": "stdout",
     "output_type": "stream",
     "text": [
      "              precision    recall  f1-score   support\n",
      "\n",
      "  desprovido       0.99      0.98      0.99      1824\n",
      "      outros       0.88      0.93      0.90       228\n",
      "parcialmente       0.98      0.98      0.98       488\n",
      "     provido       0.96      0.97      0.96       565\n",
      "\n",
      "    accuracy                           0.97      3105\n",
      "   macro avg       0.95      0.96      0.96      3105\n",
      "weighted avg       0.98      0.97      0.98      3105\n",
      "\n",
      "Accuracy for data: 0.9749\n"
     ]
    }
   ],
   "source": [
    "classifier = MultinomialNB()\n",
    "classifier.fit(X_train, y_train)\n",
    "score = classifier.score(X_test, y_test)\n",
    "y_pred = classifier.predict(X_test)\n",
    "print(classification_report(y_test, y_pred))\n",
    "print('Accuracy for data: {:.4f}'.format(score))"
   ]
  },
  {
   "cell_type": "markdown",
   "metadata": {},
   "source": [
    "### LinearSVC"
   ]
  },
  {
   "cell_type": "code",
   "execution_count": 11,
   "metadata": {
    "scrolled": true
   },
   "outputs": [
    {
     "name": "stdout",
     "output_type": "stream",
     "text": [
      "              precision    recall  f1-score   support\n",
      "\n",
      "  desprovido       1.00      0.99      1.00      1824\n",
      "      outros       0.94      0.98      0.96       228\n",
      "parcialmente       1.00      0.99      1.00       488\n",
      "     provido       0.99      1.00      1.00       565\n",
      "\n",
      "    accuracy                           0.99      3105\n",
      "   macro avg       0.98      0.99      0.99      3105\n",
      "weighted avg       0.99      0.99      0.99      3105\n",
      "\n",
      "Accuracy for data: 0.9936\n"
     ]
    }
   ],
   "source": [
    "classifier = LinearSVC()\n",
    "classifier.fit(X_train, y_train)\n",
    "score = classifier.score(X_test, y_test)\n",
    "y_pred = classifier.predict(X_test)\n",
    "print(classification_report(y_test, y_pred))\n",
    "print('Accuracy for data: {:.4f}'.format(score))"
   ]
  },
  {
   "cell_type": "markdown",
   "metadata": {},
   "source": [
    "### Logistic Regression\n"
   ]
  },
  {
   "cell_type": "code",
   "execution_count": 12,
   "metadata": {},
   "outputs": [
    {
     "name": "stdout",
     "output_type": "stream",
     "text": [
      "              precision    recall  f1-score   support\n",
      "\n",
      "  desprovido       1.00      0.99      1.00      1824\n",
      "      outros       0.95      0.99      0.97       228\n",
      "parcialmente       1.00      0.99      1.00       488\n",
      "     provido       1.00      1.00      1.00       565\n",
      "\n",
      "    accuracy                           0.99      3105\n",
      "   macro avg       0.99      0.99      0.99      3105\n",
      "weighted avg       0.99      0.99      0.99      3105\n",
      "\n",
      "Accuracy for data: 0.9945\n"
     ]
    },
    {
     "name": "stderr",
     "output_type": "stream",
     "text": [
      "C:\\Users\\Taynara\\Anaconda3\\lib\\site-packages\\sklearn\\linear_model\\logistic.py:432: FutureWarning: Default solver will be changed to 'lbfgs' in 0.22. Specify a solver to silence this warning.\n",
      "  FutureWarning)\n",
      "C:\\Users\\Taynara\\Anaconda3\\lib\\site-packages\\sklearn\\linear_model\\logistic.py:469: FutureWarning: Default multi_class will be changed to 'auto' in 0.22. Specify the multi_class option to silence this warning.\n",
      "  \"this warning.\", FutureWarning)\n"
     ]
    }
   ],
   "source": [
    "classifier = LogisticRegression()\n",
    "classifier.fit(X_train, y_train)\n",
    "score = classifier.score(X_test, y_test)\n",
    "y_pred = classifier.predict(X_test)\n",
    "print(classification_report(y_test, y_pred))\n",
    "print('Accuracy for data: {:.4f}'.format(score))"
   ]
  },
  {
   "cell_type": "markdown",
   "metadata": {},
   "source": [
    "### Nearest Neighbors"
   ]
  },
  {
   "cell_type": "code",
   "execution_count": 13,
   "metadata": {},
   "outputs": [
    {
     "name": "stdout",
     "output_type": "stream",
     "text": [
      "              precision    recall  f1-score   support\n",
      "\n",
      "  desprovido       0.98      1.00      0.99      1824\n",
      "      outros       0.98      0.85      0.91       228\n",
      "parcialmente       0.99      0.99      0.99       488\n",
      "     provido       0.99      0.99      0.99       565\n",
      "\n",
      "    accuracy                           0.99      3105\n",
      "   macro avg       0.99      0.96      0.97      3105\n",
      "weighted avg       0.99      0.99      0.99      3105\n",
      "\n",
      "Accuracy for data: 0.9855\n"
     ]
    }
   ],
   "source": [
    "classifier = KNeighborsClassifier(n_neighbors=6)\n",
    "classifier.fit(X_train, y_train)\n",
    "score = classifier.score(X_test, y_test)\n",
    "y_pred = classifier.predict(X_test)\n",
    "print(classification_report(y_test, y_pred))\n",
    "print('Accuracy for data: {:.4f}'.format(score))"
   ]
  },
  {
   "cell_type": "markdown",
   "metadata": {},
   "source": [
    "### Decision Trees"
   ]
  },
  {
   "cell_type": "code",
   "execution_count": 14,
   "metadata": {},
   "outputs": [
    {
     "name": "stdout",
     "output_type": "stream",
     "text": [
      "              precision    recall  f1-score   support\n",
      "\n",
      "  desprovido       1.00      0.99      1.00      1824\n",
      "      outros       0.94      0.96      0.95       228\n",
      "parcialmente       1.00      0.99      1.00       488\n",
      "     provido       1.00      1.00      1.00       565\n",
      "\n",
      "    accuracy                           0.99      3105\n",
      "   macro avg       0.98      0.99      0.99      3105\n",
      "weighted avg       0.99      0.99      0.99      3105\n",
      "\n",
      "Accuracy for data: 0.9926\n"
     ]
    }
   ],
   "source": [
    "classifier = tree.DecisionTreeClassifier()\n",
    "classifier.fit(X_train, y_train)\n",
    "score = classifier.score(X_test, y_test)\n",
    "y_pred = classifier.predict(X_test)\n",
    "print(classification_report(y_test, y_pred))\n",
    "print('Accuracy for data: {:.4f}'.format(score))"
   ]
  }
 ],
 "metadata": {
  "kernelspec": {
   "display_name": "Python 3",
   "language": "python",
   "name": "python3"
  },
  "language_info": {
   "codemirror_mode": {
    "name": "ipython",
    "version": 3
   },
   "file_extension": ".py",
   "mimetype": "text/x-python",
   "name": "python",
   "nbconvert_exporter": "python",
   "pygments_lexer": "ipython3",
   "version": "3.7.4"
  }
 },
 "nbformat": 4,
 "nbformat_minor": 2
}
